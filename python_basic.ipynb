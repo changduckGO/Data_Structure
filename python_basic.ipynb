{
 "cells": [
  {
   "cell_type": "markdown",
   "metadata": {},
   "source": [
    "# <center> 2주차 실습 - 1 </center>\n",
    "---\n",
    "\n",
    "## <div style=\"text-align: right\"> e-비즈니스학과 201621438 서창덕 <div>"
   ]
  },
  {
   "cell_type": "markdown",
   "metadata": {},
   "source": [
    "### 1. 다양한 자료형 변수 생성"
   ]
  },
  {
   "cell_type": "code",
   "execution_count": 3,
   "metadata": {},
   "outputs": [],
   "source": [
    "num = 1042            # 정수형(int) 변수 생성\n",
    "num = num + 700         \n",
    "pi = 3.14             # 실수형(float) 변수 \n",
    "comp = 1 + 2j         # 복소수형(complex) 변수 \n",
    "is_valid = True       # 부울형(bool) 변수\n",
    "msg = 'good game!'    # 문자형(str) 변수\n",
    "list_a = [0, 1, 1, 2, 3, 4, 5, 10, 13]     # 리스트형(list) 변수\n",
    "tup = (1, 2, 3)          # 튜플(tuple)형 변수\n",
    "dictonary = {'a' : 90, 'b': 80, 'c' : 70}   # 딕셔너리(dict)형 변수\n",
    "set_a = {1, 2, 3, 4, 6, 9}    # 집합(set)형 변수"
   ]
  },
  {
   "cell_type": "code",
   "execution_count": 5,
   "metadata": {},
   "outputs": [
    {
     "data": {
      "text/plain": [
       "set"
      ]
     },
     "execution_count": 5,
     "metadata": {},
     "output_type": "execute_result"
    }
   ],
   "source": [
    "type(set_a)     # type으로 자료형 확인"
   ]
  },
  {
   "cell_type": "markdown",
   "metadata": {},
   "source": [
    "### 2. 간단한 연산"
   ]
  },
  {
   "cell_type": "code",
   "execution_count": 13,
   "metadata": {},
   "outputs": [
    {
     "name": "stdout",
     "output_type": "stream",
     "text": [
      "554.7770700636943\n",
      "3034564\n",
      "True\n",
      "False\n"
     ]
    }
   ],
   "source": [
    "print(num / pi)    # 실수의 나눗셈 (만약 / 를 사용한다면 소수점 부분이 날라감)\n",
    "print(num ** 2)    # num의 제곱\n",
    "\n",
    "print('o' in 'photo')  # 'photo'에 'o'가 있는지 True or False로 반환\n",
    "print('le' in 'develop')  # 위와 마찬가지로 Ture or False 반환"
   ]
  },
  {
   "cell_type": "markdown",
   "metadata": {},
   "source": [
    "### 3. 입출력 함수"
   ]
  },
  {
   "cell_type": "code",
   "execution_count": 4,
   "metadata": {},
   "outputs": [
    {
     "name": "stdout",
     "output_type": "stream",
     "text": [
      "당신의 전공을 입력해주세요.e-비즈니스학과\n",
      "희망 진로를 입력해주세요.ML engineer\n"
     ]
    }
   ],
   "source": [
    "name = input(\"당신의 전공을 입력해주세요.\")\n",
    "career = input(\"희망 진로를 입력해주세요.\")"
   ]
  },
  {
   "cell_type": "code",
   "execution_count": 3,
   "metadata": {},
   "outputs": [
    {
     "name": "stdout",
     "output_type": "stream",
     "text": [
      "당신의 나이를 입력해주세요.24\n",
      "당신의 최종 학점을 입력해주세요.4.3\n"
     ]
    }
   ],
   "source": [
    "age = int(input(\"당신의 나이를 입력해주세요.\"))\n",
    "final_grade = float(input(\"당신의 최종 학점을 입력해주세요.\"))"
   ]
  },
  {
   "cell_type": "markdown",
   "metadata": {},
   "source": [
    "### 4. 제어 구조 및 반복문"
   ]
  },
  {
   "cell_type": "code",
   "execution_count": 23,
   "metadata": {},
   "outputs": [
    {
     "name": "stdout",
     "output_type": "stream",
     "text": [
      "당신의 성적을 입력해주세요.: 100\n",
      "당신의 성적은 A+입니다.\n"
     ]
    }
   ],
   "source": [
    "# if-elif-else문을 사용한 성적 산출하기\n",
    "\n",
    "score = int(input(\"당신의 성적을 입력해주세요.: \"))\n",
    "if score >= 90:\n",
    "    print(\"당신의 성적은 A+입니다.\")\n",
    "elif score >= 80:\n",
    "    print(\"당신의 성적은 B+입니다.\")\n",
    "elif score >= 80:\n",
    "    print(\"당신의 성적은 C+입니다.\")\n",
    "elif score >= 80:\n",
    "    print(\"당신의 성적은 D+입니다.\")\n",
    "else:\n",
    "    print(\"당신의 성적은 F입니다.\")\n"
   ]
  },
  {
   "cell_type": "code",
   "execution_count": 31,
   "metadata": {},
   "outputs": [
    {
     "name": "stdout",
     "output_type": "stream",
     "text": [
      "구구단 단 입력: 7\n",
      "7 x 1 = 7\n",
      "7 x 2 = 14\n",
      "7 x 3 = 21\n",
      "7 x 4 = 28\n",
      "7 x 5 = 35\n",
      "7 x 6 = 42\n",
      "7 x 7 = 49\n",
      "7 x 8 = 56\n",
      "7 x 9 = 63\n"
     ]
    }
   ],
   "source": [
    "# for문을 사용한 구구단 출력 하기\n",
    "\n",
    "gugu_dan = int(input(\"구구단 단 입력: \")) \n",
    "\n",
    "for i in range(1, 10):   # range()를 통해 i가 1에서 9까지 반복될 수 있도록 해줌.\n",
    "    print(\"{} x {} = {}\".format(gugu_dan, i, gugu_dan * i))"
   ]
  },
  {
   "cell_type": "code",
   "execution_count": 30,
   "metadata": {},
   "outputs": [
    {
     "name": "stdout",
     "output_type": "stream",
     "text": [
      "구구단 단 입력: 3\n",
      "3 x 1 = 3\n",
      "3 x 2 = 6\n",
      "3 x 3 = 9\n",
      "3 x 4 = 12\n",
      "3 x 5 = 15\n",
      "3 x 6 = 18\n",
      "3 x 7 = 21\n",
      "3 x 8 = 24\n",
      "3 x 9 = 27\n"
     ]
    }
   ],
   "source": [
    "# while문을 사용한 구구단 출력하기\n",
    "\n",
    "gugu_dan = int(input(\"구구단 단 입력: \")) \n",
    "n = 1\n",
    "while n < 10:           # n이 n < 10을 만족하는 True일 때 계속 반복 (False가 되면 반복 끝)\n",
    "    print(\"{} x {} = {}\".format(gugu_dan, n, gugu_dan * n))\n",
    "    n += 1              # n에 1을 더해서 n에 다시 넣어줌."
   ]
  },
  {
   "cell_type": "markdown",
   "metadata": {},
   "source": [
    "### 5. 컬렉션 자료형"
   ]
  },
  {
   "cell_type": "markdown",
   "metadata": {},
   "source": [
    "- 문자열(str)\n",
    "- 리스트(list)\n",
    "- 튜플(tuple)\n",
    "- 딕셔너리(dict)\n",
    "- 집합(set)"
   ]
  },
  {
   "cell_type": "markdown",
   "metadata": {},
   "source": [
    "#### 5.1 문자열(str)"
   ]
  },
  {
   "cell_type": "code",
   "execution_count": 7,
   "metadata": {},
   "outputs": [
    {
     "name": "stdout",
     "output_type": "stream",
     "text": [
      "안녕하세요 제 이름은 서창덕입니다. 제 전공은 e-business이고, 관심 분야는 Data Analytics & Macine Learning입니다.\n"
     ]
    }
   ],
   "source": [
    "name = '서창덕'\n",
    "major = 'e-business'\n",
    "interest = 'Data Analytics & Macine Learning'\n",
    "\n",
    "introduce = \"안녕하세요 제 이름은 {}입니다. 제 전공은 {}이고, 관심 분야는 {}입니다.\".format(name, major, interest)\n",
    "print(introduce)"
   ]
  },
  {
   "cell_type": "code",
   "execution_count": 24,
   "metadata": {},
   "outputs": [
    {
     "name": "stdout",
     "output_type": "stream",
     "text": [
      "취미는 스쿼시이고, 나이는 24살이며 학점은 4.25입니다.\n"
     ]
    }
   ],
   "source": [
    "hobby = '스쿼시'\n",
    "age = 24\n",
    "score = 4.3\n",
    "\n",
    "introduce_2 = \"취미는 %s이고, 나이는 %d살이며 학점은 %4.1f입니다.\" % (hobby, age, score)\n",
    "\n",
    "# .format()이 아닌 %를 통해서도 다양한 자료형을 넣어줄 수 있음. \n",
    "# 이때 (x, y, z...)는 우리가 알고 있던 tuple 형태라고 할 수 있음.\n",
    "\n",
    "print(introduce_2)"
   ]
  },
  {
   "cell_type": "markdown",
   "metadata": {},
   "source": [
    "#### 5.2 리스트(list)"
   ]
  },
  {
   "cell_type": "code",
   "execution_count": 29,
   "metadata": {},
   "outputs": [
    {
     "data": {
      "text/plain": [
       "['Business Analytics',\n",
       " 'ICT strategy & planning',\n",
       " 'Principles of Economics 2',\n",
       " 'Data Structure',\n",
       " 'Discrete Mathmatics',\n",
       " 'Probability & Statistics 1']"
      ]
     },
     "execution_count": 29,
     "metadata": {},
     "output_type": "execute_result"
    }
   ],
   "source": [
    "major = []\n",
    "dual_major = ['Data Structure', 'Discrete Mathmatics', 'Probability & Statistics 1']\n",
    "\n",
    "\n",
    "major.append('Business Analytics') # append를 통해 리스트 맨 뒤에 Business Analytics 추가\n",
    "major.append('ICT strategy & planning')\n",
    "major.append('Principles of Economics 2')\n",
    "major.append('Machine Learning')\n",
    "\n",
    "major. extend(dual_major)   # extend를 통해 dual_major 리스트를 major에 추가\n",
    "major.remove('Machine Learning') # remove를 통해 Machine Learning을 major에서 제거\n",
    "\n",
    "major"
   ]
  },
  {
   "cell_type": "code",
   "execution_count": 3,
   "metadata": {},
   "outputs": [
    {
     "name": "stdout",
     "output_type": "stream",
     "text": [
      "1번째 숫자를 입력하세요: 1\n",
      "2번째 숫자를 입력하세요: 2\n",
      "3번째 숫자를 입력하세요: 3\n",
      "4번째 숫자를 입력하세요: 4\n",
      "5번째 숫자를 입력하세요: 5\n",
      "숫자의 합계는 15입니다.\n"
     ]
    }
   ],
   "source": [
    "# 5개의 숫자를 입력 받아 합계 계산\n",
    "num = []\n",
    "sum_num = 0\n",
    "\n",
    "for i in range(5):\n",
    "    newnum = int(input(\"{}번째 숫자를 입력하세요: \".format(i+1)))\n",
    "    num.append(newnum)\n",
    "for i in range(5):\n",
    "    sum_num = sum_num + num[i]\n",
    "    \n",
    "print(\"숫자의 합계는 {}입니다.\".format(sum_num))\n"
   ]
  },
  {
   "cell_type": "code",
   "execution_count": 7,
   "metadata": {},
   "outputs": [
    {
     "name": "stdout",
     "output_type": "stream",
     "text": [
      "1학기 성적을 입력해주세요3.83\n",
      "2학기 성적을 입력해주세요4.2\n",
      "3학기 성적을 입력해주세요4.0\n",
      "4학기 성적을 입력해주세요3.93\n",
      "5학기 성적을 입력해주세요4.5\n",
      "6학기 성적을 입력해주세요4.5\n",
      "7학기 성적을 입력해주세요4.5\n",
      "8학기 성적을 입력해주세요4.5\n",
      "최종 학점은 4.245입니다.\n"
     ]
    }
   ],
   "source": [
    "# 8학기의 학점을 입력 받아 최종 학점 산출\n",
    "\n",
    "grade = []         # grade라는 빈 리스트 생성\n",
    "final_grade = 0    # 학점을 합해줄 final_grade 변수 생성 \n",
    "\n",
    "for i in range(8):\n",
    "    total_grade = float(input(\"{}학기 성적을 입력해주세요\".format(i+1)))\n",
    "    grade.append(total_grade)\n",
    "for i in range(8):\n",
    "    final_grade = final_grade + grade[i] \n",
    "\n",
    "\n",
    "print(\"최종 학점은 {}입니다.\".format(final_grade / 8))"
   ]
  },
  {
   "cell_type": "code",
   "execution_count": 20,
   "metadata": {},
   "outputs": [
    {
     "name": "stdout",
     "output_type": "stream",
     "text": [
      "[[1, 3, 5], [7, 9, 11], [13, 15, 17]]\n"
     ]
    }
   ],
   "source": [
    "# 2. 리스트 내 리스트가 있는 중복 구조 생성\n",
    "# num = [[1,3,5],[7,9,11],[13,15,17]] 형태인 2차원 리스트 생성\n",
    "\n",
    "num = []\n",
    "\n",
    "for i in range(1, 18 , 6): # 1에서 18까지 6씩 증가하는 1, 7, 13 반복\n",
    "    \n",
    "    small_list = []        # 반복 시 초기화를 위해 small_list라는 빈 리스트를 생성\n",
    "    \n",
    "    for j in range(0, 5, 2):   # 0부터 5까지 2씩 증가하는 0, 2, 4 이 3개의 숫자 반복 \n",
    "        \n",
    "        small_list.append(i + j)  # small_list에 i+j 요소 추가\n",
    "                                  # 먼저 i에 1이 입력되어 들어오고, 그 안에서 j에 0, 2, 4 가 들어와 더해짐\n",
    "                                  # 그리고 난 후 i에 7이 입력되어 들어오고, 위와 마찬가지로 j에 0,2,4 가 들어와 더해짐\n",
    "                \n",
    "    num.append(small_list)        # num 리스트에 small_list를 추가\n",
    "    \n",
    "print(num)\n",
    "        \n",
    "\n",
    "\n"
   ]
  },
  {
   "cell_type": "code",
   "execution_count": 3,
   "metadata": {},
   "outputs": [
    {
     "name": "stdout",
     "output_type": "stream",
     "text": [
      "1.숫자를 입력해주세요.: 10\n",
      "2.숫자를 입력해주세요.: 20\n",
      "3.숫자를 입력해주세요.: -30\n",
      "4.숫자를 입력해주세요.: -50\n",
      "5.숫자를 입력해주세요.: 0\n",
      "양의 정수 2개, 음의 정수 2개, 0의 개수 1개\n"
     ]
    }
   ],
   "source": [
    "# 3. 리스트를 입력 받아서 양수와 음수, 0의 개수 세기\n",
    "\n",
    "num = []\n",
    "plus_count = 0\n",
    "zero_count = 0\n",
    "minus_count = 0\n",
    "\n",
    "for i in range(5):\n",
    "    newnum = int(input(\"{}.숫자를 입력해주세요.: \".format(i+1)))\n",
    "    num.append(newnum) # num 리스트에 입력받은 값 추가\n",
    "\n",
    "for i in range(5):\n",
    "    if num[i] > 0:                   # num[i]가 0 보다 크면 양의 정수 count + 1\n",
    "        plus_count = plus_count + 1\n",
    "    elif num[i] < 0:\n",
    "        minus_count = minus_count + 1 # num[i]가 0 보다 크면 음의 정수 count + 1\n",
    "    else:\n",
    "        zero_count = zero_count + 1 # num[i]가 0이면 0 count + 1\n",
    "\n",
    "print(\"양의 정수 {}개, 음의 정수 {}개, 0의 개수 {}개\".format(plus_count, minus_count, zero_count))\n",
    "\n",
    "\n"
   ]
  },
  {
   "cell_type": "markdown",
   "metadata": {},
   "source": [
    "#### 5.3 튜플(tuple)"
   ]
  },
  {
   "cell_type": "code",
   "execution_count": 7,
   "metadata": {},
   "outputs": [
    {
     "name": "stdout",
     "output_type": "stream",
     "text": [
      "(0, 1, 2)\n",
      "(3, 17)\n",
      "((0, 1, 2), (3, 17))\n"
     ]
    }
   ],
   "source": [
    "tup = (0, 1, 2)\n",
    "tup1 = (3,17)\n",
    "tup2 = (tup, tup1)\n",
    "# 튜플은 리스트와 동일하지만 크기나 값을 변경할 수 없음.\n",
    "# 만약 tup[2] = 3와 같이 변경을 시도한다면 에러 \n",
    "\n",
    "print(tup)\n",
    "print(tup1)\n",
    "print(tup2)"
   ]
  },
  {
   "cell_type": "markdown",
   "metadata": {},
   "source": [
    "#### 5.4 딕셔너리(dict)"
   ]
  },
  {
   "cell_type": "code",
   "execution_count": 11,
   "metadata": {},
   "outputs": [
    {
     "data": {
      "text/plain": [
       "{'류현진': '야구 선수',\n",
       " '메시': '축구',\n",
       " '조던 선수': '농구 선수',\n",
       " '제이플라': '유튜버',\n",
       " '블랙핑크': '아이돌',\n",
       " '나달': '테니스',\n",
       " '아이유': '가수',\n",
       " '추신수': '야구 선수'}"
      ]
     },
     "execution_count": 11,
     "metadata": {},
     "output_type": "execute_result"
    }
   ],
   "source": [
    "celebrity = {'류현진' : '야구 선수', '메시' : '축구', '조던 선수' : '농구 선수',\n",
    "            '제이플라' : '유튜버', '블랙핑크' : '아이돌'}           # celebrity 라는 딕셔너리 생성\n",
    "\n",
    "\n",
    "celebrity['나달'] = '테니스'    # 항목 추가\n",
    "celebrity.update({'아이유' : '가수', '추신수' : '야구 선수'})   # 여러 항목 동시 추가\n",
    "\n",
    "celebrity\n"
   ]
  },
  {
   "cell_type": "code",
   "execution_count": 14,
   "metadata": {},
   "outputs": [
    {
     "name": "stdout",
     "output_type": "stream",
     "text": [
      "통계학\n",
      "검정색\n",
      "의자\n"
     ]
    }
   ],
   "source": [
    "# 단어를 key로 뜻을 value로 갖는 딕셔너리\n",
    "\n",
    "EngDic = {'black' : '검정색', 'chair' : '의자', 'statistics' : '통계학'}\n",
    "print(EngDic['statistics'])\n",
    "print(EngDic['black'])\n",
    "print(EngDic['chair'])"
   ]
  },
  {
   "cell_type": "code",
   "execution_count": 18,
   "metadata": {},
   "outputs": [
    {
     "name": "stdout",
     "output_type": "stream",
     "text": [
      "서창덕\n",
      "201621438\n",
      "970317\n",
      "e-business학과\n",
      "인공지능융합학과\n"
     ]
    }
   ],
   "source": [
    "# 나의 정보가 담긴 딕셔너리\n",
    "my_info = {'생년월일' : '970317', '전공' : 'e-business학과', '제1복수전공' : '인공지능융합학과',\n",
    "          '이름' : '서창덕', '학번' : '201621438'}\n",
    "\n",
    "print(my_info['이름'])\n",
    "print(my_info['학번'])\n",
    "print(my_info['생년월일'])\n",
    "print(my_info['전공'])\n",
    "print(my_info['제1복수전공'])"
   ]
  },
  {
   "cell_type": "code",
   "execution_count": 12,
   "metadata": {},
   "outputs": [
    {
     "name": "stdout",
     "output_type": "stream",
     "text": [
      "check :\n",
      "검사하다조사하다\n",
      "assign :\n",
      "할당하다배정하다\n",
      "involved :\n",
      "관계된연루된\n",
      "perform :\n",
      "수행하다돌아가다공연하다\n",
      "break :\n",
      "깨다고장내다찢다\n"
     ]
    }
   ],
   "source": [
    "# 값을 리스트 형식으로 생성\n",
    "\n",
    "EngDic_multi = {'check' : ['검사하다', '조사하다'], 'assign' : ['할당하다', '배정하다'],\n",
    "         'involved' : ['관계된', '연루된'], 'perform' : ['수행하다', '돌아가다', '공연하다'],\n",
    "         'break' : ['깨다', '고장내다', '찢다']}\n",
    "# 이와 같이 value에 리스트 형식으로 넣을 수 있음\n",
    "\n",
    "\n",
    "# key로 value 얻기\n",
    "\n",
    "for item in EngDic_multi.keys():     # EngDic_multi의 key를 item으로 \n",
    "    print(item, \":\")\n",
    "    for value in EngDic_multi[item]: # EngDic_multi[item]을 통해 value 추출\n",
    "        print(value, end = \"\")       # 한 단어의 value가 띄어쓰기 되지 않도록 end = \"\" 사용\n",
    "    print() "
   ]
  },
  {
   "cell_type": "code",
   "execution_count": 20,
   "metadata": {
    "scrolled": true
   },
   "outputs": [
    {
     "name": "stdout",
     "output_type": "stream",
     "text": [
      "['할당하다', '배정하다']\n",
      "-------------------------------------\n",
      "not found\n",
      "-------------------------------------\n",
      "False\n"
     ]
    }
   ],
   "source": [
    "# 해당 key가 있는지 조사하기\n",
    "print(EngDic_multi.get('assign', 'not found'))   # key에 'assgin'이 있으면 이에 대한 value 리턴\n",
    "                                                 # 없으면 'not found' 리턴\n",
    "\n",
    "print('-------------------------------------')\n",
    "print(EngDic_multi.get('very', 'not found'))\n",
    "\n",
    "print('-------------------------------------')\n",
    "print('choose' in EngDic_multi)                  # in을 사용해 True or False로도 확인 가능"
   ]
  },
  {
   "cell_type": "markdown",
   "metadata": {},
   "source": [
    "#### 5.5 집합(set)"
   ]
  },
  {
   "cell_type": "code",
   "execution_count": 23,
   "metadata": {},
   "outputs": [
    {
     "name": "stdout",
     "output_type": "stream",
     "text": [
      "set1: {1, 2, 3}\n",
      "set2: {2, 3, 4, 5}\n",
      "set3: {1, 2, 3, 4, 5}\n",
      "set4: {2, 3}\n",
      "set5: {1}\n"
     ]
    }
   ],
   "source": [
    "s1 = {1, 2, 3}\n",
    "s2 = {2, 3, 4, 5}\n",
    "s3 = s1.union(s2)        # 합집합\n",
    "s4 = s1.intersection(s2) # 교집합\n",
    "s5 = s1 - s2   # 차집합은 구하려는 것에 따라 순서 중요 \n",
    "\n",
    "print('set1:', s1)\n",
    "print('set2:', s2)\n",
    "print('set3:', s3)\n",
    "print('set4:', s4)\n",
    "print('set5:', s5)\n"
   ]
  },
  {
   "cell_type": "code",
   "execution_count": 27,
   "metadata": {},
   "outputs": [
    {
     "name": "stdout",
     "output_type": "stream",
     "text": [
      "{1, 2, 3, 4, 5}\n",
      "[1, 2, 2, 4, 5, 7, 8, 8]\n",
      "{1, 2, 4, 5, 7, 8}\n"
     ]
    }
   ],
   "source": [
    "my_set = {1, 1, 2, 2, 3, 4, 5, 5}\n",
    "print(my_set)   # 집합은 중복 허용하지 않음 (알아서 중복된 항목 제거)\n",
    "\n",
    "my_list = [1, 2, 2, 4, 5, 7, 8, 8]\n",
    "print(my_list)  # 리스트는 중복 허용\n",
    "\n",
    "list_set = set(my_list)\n",
    "print(list_set)  # set 집합으로 변경하면 중복 제거 확인"
   ]
  },
  {
   "cell_type": "code",
   "execution_count": 30,
   "metadata": {},
   "outputs": [
    {
     "name": "stdout",
     "output_type": "stream",
     "text": [
      "{2, 4, 6, 8, 10}\n",
      "{4, 6, 8, 10}\n",
      "set()\n"
     ]
    }
   ],
   "source": [
    "my_set1 = {2, 4, 6, 8}\n",
    "\n",
    "my_set1.add(10)   # 하나의 원소 추가\n",
    "print(my_set1)\n",
    "\n",
    "my_set1.remove(2) # 하나의 원소 삭제\n",
    "print(my_set1)\n",
    "\n",
    "my_set1.clear()   # 모두 삭제\n",
    "print(my_set1)"
   ]
  }
 ],
 "metadata": {
  "kernelspec": {
   "display_name": "Python 3",
   "language": "python",
   "name": "python3"
  },
  "language_info": {
   "codemirror_mode": {
    "name": "ipython",
    "version": 3
   },
   "file_extension": ".py",
   "mimetype": "text/x-python",
   "name": "python",
   "nbconvert_exporter": "python",
   "pygments_lexer": "ipython3",
   "version": "3.7.6"
  }
 },
 "nbformat": 4,
 "nbformat_minor": 4
}
