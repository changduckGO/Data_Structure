{
 "cells": [
  {
   "cell_type": "markdown",
   "metadata": {},
   "source": [
    "# <center> 2주차 실습 -2 </center>\n",
    "---\n",
    "\n",
    "## <div style=\"text-align: right\"> e-비즈니스학과 서창덕 <div>"
   ]
  },
  {
   "cell_type": "markdown",
   "metadata": {},
   "source": [
    "### 1. 사용자 정의 함수"
   ]
  },
  {
   "cell_type": "code",
   "execution_count": 1,
   "metadata": {},
   "outputs": [],
   "source": [
    "def find_min_max(A):             # 최대값과 최솟값을 동시에 찾아서 반환해주는 함수\n",
    "    min = A[0]\n",
    "    max = A[0]\n",
    "    for i in range(1, len(A)):  \n",
    "        if max < A[i]:\n",
    "            max = A[i]           # 최대값 갱신\n",
    "            \n",
    "        elif min > A[i]:\n",
    "            min = A[i]           # 최솟값 갱신\n",
    "            \n",
    "    return min, max              # 최솟값과 최댓값을 반환"
   ]
  },
  {
   "cell_type": "code",
   "execution_count": 2,
   "metadata": {},
   "outputs": [
    {
     "name": "stdout",
     "output_type": "stream",
     "text": [
      "(min, max) =  (10, 100)\n"
     ]
    }
   ],
   "source": [
    "data = [10, 20, 30, 40, 50, 60, 70, 80, 90, 100]\n",
    "x, y = find_min_max(data)         # 최솟값과 최댓값을 반환받아서 x, y에 언패킹\n",
    "print(\"(min, max) = \", (x,y))     # x와 y를 튜플로 만들어 출력"
   ]
  },
  {
   "cell_type": "markdown",
   "metadata": {},
   "source": [
    "- 디폴트 인수"
   ]
  },
  {
   "cell_type": "code",
   "execution_count": 3,
   "metadata": {},
   "outputs": [
    {
     "name": "stdout",
     "output_type": "stream",
     "text": [
      "sum =  45\n",
      "sum =  25\n"
     ]
    }
   ],
   "source": [
    "def sum_range(begin, end, step = 1):     # 매개변수 step의 디폴트 값 1\n",
    "    sum = 0 \n",
    "    for n in range(begin, end, step):\n",
    "        sum += n\n",
    "    return sum\n",
    "\n",
    "print(\"sum = \", sum_range(1, 10))      # step은 디폴트 값(1)로 처리\n",
    "print(\"sum = \", sum_range(1, 10, 2))   # step 디폴트 값이 아닌 2로 설정\n"
   ]
  },
  {
   "cell_type": "markdown",
   "metadata": {},
   "source": [
    "- 키워드 인수 "
   ]
  },
  {
   "cell_type": "code",
   "execution_count": 16,
   "metadata": {},
   "outputs": [
    {
     "name": "stdout",
     "output_type": "stream",
     "text": [
      "sum =  30\n",
      "game"
     ]
    }
   ],
   "source": [
    "print(\"sum = \", sum_range(step = 10, begin = 10, end = 30))   # 키워드 인수 사용 \n",
    "print(\"game\", end = \"\")             # 라인피드가 발생하지 않음(키워드 인수 사용)\n",
    "                                    # 파이썬 내장 => 디폴트가 '/n'으로 설정되어 있어 띄어쓰기가 되어있던 것이다."
   ]
  },
  {
   "cell_type": "markdown",
   "metadata": {},
   "source": [
    "### 2. 변수의 범위\n",
    "- 내장 범위(built-in scope)\n",
    "    - 언어의 일부로 정의된 변수와 리터럴들\n",
    "    - 프로그램의 **어디에서나** 사용할 수 있음.\n",
    "<br>\n",
    "<br>\n",
    "\n",
    "- 지역 범위(local scope)\n",
    "    - 함수나 클래스의 멤버함수(메소드) 안에서 생성\n",
    "    - **그 안에서만** 사용. 함수의 매개변수들도 지역 범위\n",
    "<br>\n",
    "<br>\n",
    "\n",
    "- 전역 범위(global scope)\n",
    "    - 소스 파일의 맨 꼭대기 레벨(함수나 클래스 밖)에서 생성\n",
    "    - 프로그램의 **어디에서나** 사용할 수 있음.\n",
    "<br>\n",
    "<br>\n",
    "\n",
    "- 인스턴스 범위(instance scope)\n",
    "    - 클래스의 **데이터 멤버**로 생성된 변수\n",
    "    - **클래스 내의 다른 함수들에서** 사용할 수 있음.\n"
   ]
  },
  {
   "cell_type": "code",
   "execution_count": 22,
   "metadata": {},
   "outputs": [
    {
     "name": "stdout",
     "output_type": "stream",
     "text": [
      "파이: 3.14159\n",
      "원둘레 =  125.6636\n"
     ]
    }
   ],
   "source": [
    "def cal_perimeter(radius):    # 반지름을 통해 둘레를 구하는 함수\n",
    "    global perimeter        \n",
    "    print(\"파이:\", pi)\n",
    "    perimeter = 2 * pi * radius  # 이 상태에서 돌려주면 아래의 전역변수 perimeter = 0이 출력됨.\n",
    "                                 # 이를 해결하기 위해서 gloabl을 통해 함수 내 perimeter를 전역 변수화\n",
    "    \n",
    "pi = 3.14159         # 전역 변수 pi: 파이값의 근사치\n",
    "perimeter = 0        # 전역 변수 perimeter: 원 둘레\n",
    "cal_perimeter(20)\n",
    "print(\"원둘레 = \", perimeter)"
   ]
  },
  {
   "cell_type": "markdown",
   "metadata": {},
   "source": [
    "### 3. 모듈과 이름 공간(namespace)"
   ]
  },
  {
   "cell_type": "markdown",
   "metadata": {},
   "source": [
    "- 앞서 만들었던 min_max, sum_range와 같은 함수를 py로 저장한다고 생각해보자\n",
    "- 그러면 우리는 우리가 만듣 모듈을 파일명 이름을 통해 import할 수 있음.<br>\n",
    "``` import min_max ``` <br>\n",
    "```import sum_range```<br>\n",
    "'return\n",
    "```min_max.find_min_max(data)```<br>\n",
    "- 위 코드처럼 **min_max 모듈**의 **find_min_max 함수**를 사용할 수 있음."
   ]
  },
  {
   "cell_type": "code",
   "execution_count": 28,
   "metadata": {},
   "outputs": [
    {
     "name": "stdout",
     "output_type": "stream",
     "text": [
      "1024.0\n",
      "2.0\n"
     ]
    }
   ],
   "source": [
    "from math import pow, sqrt   # math 모듈로부터 pow, sqrt 식별자 사용\n",
    "result = pow(2,10)           # 이미 만들어져있는 것을 사용하기 떄문에 pow, sqrt 바로 사용 가능\n",
    "dist = sqrt(4)\n",
    "print(result)\n",
    "print(dist)\n"
   ]
  },
  {
   "cell_type": "markdown",
   "metadata": {},
   "source": [
    "### 4.클래스\n",
    "- 우리가 어떤 똑같은 모듈을 계속 사용해야할 때 클래스를 정의하고, **생성자**를 만든 다음에 클래스 안에 있는 **속성들, 동작들만 변경**해서 사용하면 됨."
   ]
  },
  {
   "cell_type": "code",
   "execution_count": 2,
   "metadata": {},
   "outputs": [
    {
     "name": "stdout",
     "output_type": "stream",
     "text": [
      "car2 == car6:  False\n",
      "[car3]:  color = purple, speed = 30\n"
     ]
    }
   ],
   "source": [
    "class Car:\n",
    "    # 자동차와 관련된 클래스 정의 블록이 이어짐. 들여쓰기 조심\n",
    "    def __init__(self, color, speed = 0):  # speed 디폴트 인수 = 0\n",
    "        self.color = color\n",
    "        self.speed = speed\n",
    "    \n",
    "    # 멤버 함수 구현과 활용 -> 멤버 함수로 우리가 원하는 함수를 만들어줌.\n",
    "    def speedUp(self):\n",
    "        self.speed += 10     # 가속 동작: 속도 10 증가\n",
    "    \n",
    "    def speedDown(self):\n",
    "        self.speed -= 10     # 감속 동작: 속도 10 감소\n",
    "        \n",
    "        \n",
    "    \n",
    "    # 연산자 중복\n",
    "    # 비교 연산자 == 중복\n",
    "    def __eq__(self,carB):   # 같은지 아닌지에 대한 함수\n",
    "                             # 생성자 함수명과 같이 함수의 이름이 이미 정해짐\n",
    "                             # self 내 자신, carB 다른 차\n",
    "        return self.color == carB.color\n",
    "    \n",
    "    # 문자열로 변환 연산자: __str__ (이미 있는 함수)\n",
    "    def __str__(self):\n",
    "        \n",
    "        return \"color = %s, speed = %d\" % (self.color, self.speed)\n",
    "        \n",
    "# 생성자         \n",
    "car1 = Car('black', 0)       # 검정색, 속도 0\n",
    "car2 = Car('navy', 120)      # 남색, 속도 120\n",
    "car3 = Car('blue', 30)       # 파란색, 속도 30\n",
    "car4 = Car('white', 40)      # 흰색, 속도 40\n",
    "car5 = Car('red', 0)         # 빨간색, 속도 0 \n",
    "car6 = Car('yellow')         # 노란색, 속도 0 (디폴트 값)\n",
    "\n",
    "# 멤버 함수\n",
    "car2.speedDown()          # 감속 -10\n",
    "car4.speedUp()           # 가속 +10\n",
    "car3.color = 'purple'    # 색상 puple로 변경\n",
    "car5.speed = 100         # 속도 100으로 변경\n",
    "\n",
    "# 연산자 중복\n",
    "print(\"car2 == car6: \", car2 == car6)       # 함수 불러올 필요X, 바로 비교(color 비교해줌, speed X)\n",
    "print(\"[car3]: \", car3)"
   ]
  },
  {
   "cell_type": "markdown",
   "metadata": {},
   "source": [
    "### 6. 상속"
   ]
  },
  {
   "cell_type": "markdown",
   "metadata": {},
   "source": [
    "- 부모 클래스(Car) -> 자식 클래스(SuperCar) 상속"
   ]
  },
  {
   "cell_type": "code",
   "execution_count": 31,
   "metadata": {},
   "outputs": [
    {
     "name": "stdout",
     "output_type": "stream",
     "text": [
      "슈퍼카1:  [Gold] [speed = 50] 터보 모드\n",
      "슈퍼카2:  [White] [speed = 10] 일반 모드\n"
     ]
    }
   ],
   "source": [
    "class SuperCar(Car):          # 부모 클래스 Car\n",
    "    def __init__(self, color, speed = 0, bTurbo  = True):   # bTurbo = True는 슈퍼카에만 있는 터보\n",
    "        \n",
    "        super().__init__(color, speed)               # 부모 클래스의 생성자(__init__) 호출\n",
    "                                                     # 부모 클래스의 내용을 사용하고 싶은 경우 -> super()\n",
    "        self.bTurbo = bTurbo                         # 터보모드를 위한 변수 생성 및 초기화\n",
    "        \n",
    "    # 메소드의 재정의\n",
    "    def setTurbo(self, bTurbo = True):          # 터보 모드를 On/Off하는 메소드\n",
    "            self.bTurbo = bTurbo\n",
    "            \n",
    "    def speedUp(self):                       # SuperCar의 SpeedUp. 메소드 재정의\n",
    "        if self.bTurbo:                      \n",
    "            self.speed += 50                 # 터보 모드이면 +50\n",
    "        else:\n",
    "            super().speedUp()                # 아니면 일반 모드 + 10\n",
    "                \n",
    "    def __str__(self):\n",
    "        if self.bTurbo:\n",
    "            return \"[%s] [speed = %d] 터보 모드\" % (self.color, self.speed)\n",
    "            \n",
    "        else:\n",
    "            return \"[%s] [speed = %d] 일반 모드\" % (self.color, self.speed)\n",
    "        \n",
    "        \n",
    "        \n",
    "        \n",
    "s1 = SuperCar(\"Gold\", 0, True)\n",
    "s2 = SuperCar(\"White\", 0, False)\n",
    "\n",
    "s1.speedUp()          # 터보 모드 + 50\n",
    "s2.speedUp()          # 일반 모드 + 10\n",
    "print(\"슈퍼카1: \", s1)\n",
    "print(\"슈퍼카2: \", s2)"
   ]
  },
  {
   "cell_type": "markdown",
   "metadata": {},
   "source": [
    "### 7. 클래스 생성 예시"
   ]
  },
  {
   "cell_type": "code",
   "execution_count": 42,
   "metadata": {},
   "outputs": [],
   "source": [
    "class Employ:\n",
    "    def __init__(self, name, career):\n",
    "        self.name = name\n",
    "        self.career = career\n",
    "        print(self.name + \"님의 연차는\", str(self.career) + \"년 입니다.\")\n",
    "        \n",
    "    def salary(self):\n",
    "        if self.career <= 5:\n",
    "            self.salary = (self.career * 100) + 3000\n",
    "        elif self.career <= 10:\n",
    "            self.salary = (self.career * 110) + 3500\n",
    "        elif self.career > 10:\n",
    "            self.salary = (self.career * 130) + 4000\n",
    "            \n",
    "        print(\"%s 님의 연봉은 %d만원 입니다.\" % (self.name, self.salary))\n",
    "            \n",
    "    def degree(self):\n",
    "        self.salary_d = int(self.salary) + 1000\n",
    "        print(\"%s님의 연봉은 학위 소지로 인하여 %d 만원 입니다.\" % (self.name, self.salary_d))\n",
    "        \n",
    "    def __getattr__(self, anything):\n",
    "        print(\"잘못된 값입니다.\")"
   ]
  },
  {
   "cell_type": "code",
   "execution_count": 47,
   "metadata": {},
   "outputs": [
    {
     "name": "stdout",
     "output_type": "stream",
     "text": [
      "서창덕님의 연차는 15년 입니다.\n",
      "서창덕 님의 연봉은 5950만원 입니다.\n",
      "서창덕님의 연봉은 학위 소지로 인하여 6950 만원 입니다.\n",
      "잘못된 값입니다.\n"
     ]
    },
    {
     "data": {
      "text/plain": [
       "('서창덕', 6950)"
      ]
     },
     "execution_count": 47,
     "metadata": {},
     "output_type": "execute_result"
    }
   ],
   "source": [
    "a = Employ(\"서창덕\", 15)   # 이름, 연차\n",
    "a.salary()    # 연차수에 따른 연봉\n",
    "a.degree()    # 학위 소지 +1000\n",
    "a.money       # 잘못된 값\n",
    "\n",
    "a.name , a.salary_d"
   ]
  }
 ],
 "metadata": {
  "kernelspec": {
   "display_name": "Python 3",
   "language": "python",
   "name": "python3"
  },
  "language_info": {
   "codemirror_mode": {
    "name": "ipython",
    "version": 3
   },
   "file_extension": ".py",
   "mimetype": "text/x-python",
   "name": "python",
   "nbconvert_exporter": "python",
   "pygments_lexer": "ipython3",
   "version": "3.7.6"
  }
 },
 "nbformat": 4,
 "nbformat_minor": 4
}
